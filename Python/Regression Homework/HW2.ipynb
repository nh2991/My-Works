{
 "cells": [
  {
   "cell_type": "code",
   "execution_count": null,
   "id": "d768c20c",
   "metadata": {},
   "outputs": [
    {
     "ename": "",
     "evalue": "",
     "output_type": "error",
     "traceback": [
      "\u001b[1;31m커널을 시작하지 못했습니다. \n",
      "\u001b[1;31m커널 Python 3.10.4을(를) ​사용할 수 없습니다. 자세한 내용은 Jupyter 출력 탭을 확인하세요. \n",
      "\u001b[1;31m자세한 내용은 Jupyter <a href='command:jupyter.viewOutput'>로그</a>를 참조하세요."
     ]
    }
   ],
   "source": [
    "import numpy as np\n",
    "import pandas as pd\n",
    "from pandas import Series, DataFrame\n",
    "\n",
    "import matplotlib\n",
    "import matplotlib.pyplot as plt\n",
    "import seaborn as sns\n",
    "\n",
    "import scipy.stats as st\n",
    "import statsmodels.formula.api as smf\n",
    "import statsmodels.api as sm"
   ]
  },
  {
   "cell_type": "code",
   "execution_count": 182,
   "id": "72e1f840",
   "metadata": {},
   "outputs": [],
   "source": [
    "### 2. ###"
   ]
  },
  {
   "cell_type": "code",
   "execution_count": null,
   "id": "22c84c86",
   "metadata": {},
   "outputs": [],
   "source": [
    "### (a) ###"
   ]
  },
  {
   "cell_type": "code",
   "execution_count": null,
   "id": "77159b22",
   "metadata": {},
   "outputs": [
    {
     "ename": "",
     "evalue": "",
     "output_type": "error",
     "traceback": [
      "\u001b[1;31m커널을 시작하지 못했습니다. \n",
      "\u001b[1;31m커널 Python 3.10.4을(를) ​사용할 수 없습니다. 자세한 내용은 Jupyter 출력 탭을 확인하세요. \n",
      "\u001b[1;31m자세한 내용은 Jupyter <a href='command:jupyter.viewOutput'>로그</a>를 참조하세요."
     ]
    }
   ],
   "source": [
    "indicators = pd.read_table(\"/Users/user/Desktop/Yonsei/Junior/3-2/Introduction to Data Analysis and Regression/Homework/indicators2.txt\", sep='\\t')"
   ]
  },
  {
   "cell_type": "code",
   "execution_count": null,
   "id": "fbd91380",
   "metadata": {},
   "outputs": [
    {
     "ename": "",
     "evalue": "",
     "output_type": "error",
     "traceback": [
      "\u001b[1;31m커널을 시작하지 못했습니다. \n",
      "\u001b[1;31m커널 Python 3.10.4을(를) ​사용할 수 없습니다. 자세한 내용은 Jupyter 출력 탭을 확인하세요. \n",
      "\u001b[1;31m자세한 내용은 Jupyter <a href='command:jupyter.viewOutput'>로그</a>를 참조하세요."
     ]
    }
   ],
   "source": [
    "indicators2 = indicators[['PriceChange','LoanPaymentsOverdue']]\n",
    "indicators2"
   ]
  },
  {
   "cell_type": "code",
   "execution_count": null,
   "id": "3cbc6bfc",
   "metadata": {},
   "outputs": [
    {
     "ename": "",
     "evalue": "",
     "output_type": "error",
     "traceback": [
      "\u001b[1;31m커널을 시작하지 못했습니다. \n",
      "\u001b[1;31m커널 Python 3.10.4을(를) ​사용할 수 없습니다. 자세한 내용은 Jupyter 출력 탭을 확인하세요. \n",
      "\u001b[1;31m자세한 내용은 Jupyter <a href='command:jupyter.viewOutput'>로그</a>를 참조하세요."
     ]
    }
   ],
   "source": [
    "indicators2['PriceChange'].mean()"
   ]
  },
  {
   "cell_type": "code",
   "execution_count": null,
   "id": "fb268e3e",
   "metadata": {},
   "outputs": [
    {
     "ename": "",
     "evalue": "",
     "output_type": "error",
     "traceback": [
      "\u001b[1;31m커널을 시작하지 못했습니다. \n",
      "\u001b[1;31m커널 Python 3.10.4을(를) ​사용할 수 없습니다. 자세한 내용은 Jupyter 출력 탭을 확인하세요. \n",
      "\u001b[1;31m자세한 내용은 Jupyter <a href='command:jupyter.viewOutput'>로그</a>를 참조하세요."
     ]
    }
   ],
   "source": [
    "indicators2['LoanPaymentsOverdue'].mean()"
   ]
  },
  {
   "cell_type": "code",
   "execution_count": null,
   "id": "6f3ba187",
   "metadata": {},
   "outputs": [
    {
     "ename": "",
     "evalue": "",
     "output_type": "error",
     "traceback": [
      "\u001b[1;31m커널을 시작하지 못했습니다. \n",
      "\u001b[1;31m커널 Python 3.10.4을(를) ​사용할 수 없습니다. 자세한 내용은 Jupyter 출력 탭을 확인하세요. \n",
      "\u001b[1;31m자세한 내용은 Jupyter <a href='command:jupyter.viewOutput'>로그</a>를 참조하세요."
     ]
    }
   ],
   "source": [
    "len(indicators2.index)"
   ]
  },
  {
   "cell_type": "code",
   "execution_count": 157,
   "id": "529d1d80",
   "metadata": {},
   "outputs": [
    {
     "data": {
      "text/plain": [
       "19.16011111111111"
      ]
     },
     "execution_count": 157,
     "metadata": {},
     "output_type": "execute_result"
    }
   ],
   "source": [
    "SXX = ((indicators2['LoanPaymentsOverdue'] - indicators2['LoanPaymentsOverdue'].mean())**2).sum()\n",
    "SXX"
   ]
  },
  {
   "cell_type": "code",
   "execution_count": 158,
   "id": "9eb6aaec",
   "metadata": {},
   "outputs": [
    {
     "data": {
      "text/plain": [
       "347.0161111111111"
      ]
     },
     "execution_count": 158,
     "metadata": {},
     "output_type": "execute_result"
    }
   ],
   "source": [
    "SYY = ((indicators2['PriceChange'] - indicators2['PriceChange'].mean())**2).sum()\n",
    "SYY"
   ]
  },
  {
   "cell_type": "code",
   "execution_count": 159,
   "id": "0c432ae4",
   "metadata": {},
   "outputs": [
    {
     "data": {
      "text/plain": [
       "-43.0818888888889"
      ]
     },
     "execution_count": 159,
     "metadata": {},
     "output_type": "execute_result"
    }
   ],
   "source": [
    "SXY = ((indicators2['LoanPaymentsOverdue'] \n",
    "        - indicators2['LoanPaymentsOverdue'].mean())*(indicators2['PriceChange'] \n",
    "                                                      - indicators2['PriceChange'].mean())).sum()\n",
    "SXY"
   ]
  },
  {
   "cell_type": "code",
   "execution_count": 160,
   "id": "cd1405b8",
   "metadata": {},
   "outputs": [
    {
     "data": {
      "text/plain": [
       "-2.248519783578152"
      ]
     },
     "execution_count": 160,
     "metadata": {},
     "output_type": "execute_result"
    }
   ],
   "source": [
    "beta1 = SXY / SXX\n",
    "beta1"
   ]
  },
  {
   "cell_type": "code",
   "execution_count": 161,
   "id": "9588c746",
   "metadata": {},
   "outputs": [
    {
     "data": {
      "text/plain": [
       "4.514493768883272"
      ]
     },
     "execution_count": 161,
     "metadata": {},
     "output_type": "execute_result"
    }
   ],
   "source": [
    "beta0 = indicators2['PriceChange'].mean() - beta1 * indicators2['LoanPaymentsOverdue'].mean()\n",
    "beta0"
   ]
  },
  {
   "cell_type": "code",
   "execution_count": 162,
   "id": "94a63bb4",
   "metadata": {},
   "outputs": [
    {
     "data": {
      "text/plain": [
       "4.657092112514465"
      ]
     },
     "execution_count": 162,
     "metadata": {},
     "output_type": "execute_result"
    }
   ],
   "source": [
    "s = (SYY / (len(indicators2.index)-2))**(1/2)\n",
    "s"
   ]
  },
  {
   "cell_type": "code",
   "execution_count": 163,
   "id": "9f50dab4",
   "metadata": {},
   "outputs": [
    {
     "data": {
      "text/plain": [
       "2.1199052992210112"
      ]
     },
     "execution_count": 163,
     "metadata": {},
     "output_type": "execute_result"
    }
   ],
   "source": [
    "st.t.ppf(0.975, len(indicators2.index)-2)"
   ]
  },
  {
   "cell_type": "code",
   "execution_count": 164,
   "id": "9574e7a2",
   "metadata": {},
   "outputs": [
    {
     "data": {
      "text/plain": [
       "-4.503964968807471"
      ]
     },
     "execution_count": 164,
     "metadata": {},
     "output_type": "execute_result"
    }
   ],
   "source": [
    "beta1 - st.t.ppf(0.975, len(indicators2.index)-2) * s / (SXX)**(1/2)"
   ]
  },
  {
   "cell_type": "code",
   "execution_count": 165,
   "id": "9ede2f6e",
   "metadata": {},
   "outputs": [
    {
     "data": {
      "text/plain": [
       "0.00692540165116684"
      ]
     },
     "execution_count": 165,
     "metadata": {},
     "output_type": "execute_result"
    }
   ],
   "source": [
    "beta1 + st.t.ppf(0.975, len(indicators2.index)-2) * s / (SXX)**(1/2)"
   ]
  },
  {
   "cell_type": "code",
   "execution_count": 183,
   "id": "81b5bf69",
   "metadata": {},
   "outputs": [],
   "source": [
    "### Thus, the 95% confidence interval is (-4.503964968807471, 0.00692540165116684)."
   ]
  },
  {
   "cell_type": "code",
   "execution_count": 166,
   "id": "dcfde399",
   "metadata": {},
   "outputs": [
    {
     "data": {
      "text/plain": [
       "-4.479585365429337"
      ]
     },
     "execution_count": 166,
     "metadata": {},
     "output_type": "execute_result"
    }
   ],
   "source": [
    "Estimate = beta0 + beta1 * 4\n",
    "Estimate"
   ]
  },
  {
   "cell_type": "code",
   "execution_count": 167,
   "id": "ddefda6e",
   "metadata": {},
   "outputs": [],
   "source": [
    "lm_model = smf.ols(formula='PriceChange ~ LoanPaymentsOverdue', data=indicators2).fit()"
   ]
  },
  {
   "cell_type": "code",
   "execution_count": 168,
   "id": "c9db15e4",
   "metadata": {},
   "outputs": [
    {
     "name": "stderr",
     "output_type": "stream",
     "text": [
      "/Users/user/opt/anaconda3/lib/python3.9/site-packages/scipy/stats/stats.py:1541: UserWarning: kurtosistest only valid for n>=20 ... continuing anyway, n=18\n",
      "  warnings.warn(\"kurtosistest only valid for n>=20 ... continuing \"\n"
     ]
    },
    {
     "data": {
      "text/html": [
       "<table class=\"simpletable\">\n",
       "<caption>OLS Regression Results</caption>\n",
       "<tr>\n",
       "  <th>Dep. Variable:</th>       <td>PriceChange</td>   <th>  R-squared:         </th> <td>   0.279</td>\n",
       "</tr>\n",
       "<tr>\n",
       "  <th>Model:</th>                   <td>OLS</td>       <th>  Adj. R-squared:    </th> <td>   0.234</td>\n",
       "</tr>\n",
       "<tr>\n",
       "  <th>Method:</th>             <td>Least Squares</td>  <th>  F-statistic:       </th> <td>   6.196</td>\n",
       "</tr>\n",
       "<tr>\n",
       "  <th>Date:</th>             <td>Fri, 20 Jan 2023</td> <th>  Prob (F-statistic):</th>  <td>0.0242</td> \n",
       "</tr>\n",
       "<tr>\n",
       "  <th>Time:</th>                 <td>23:10:50</td>     <th>  Log-Likelihood:    </th> <td> -49.226</td>\n",
       "</tr>\n",
       "<tr>\n",
       "  <th>No. Observations:</th>      <td>    18</td>      <th>  AIC:               </th> <td>   102.5</td>\n",
       "</tr>\n",
       "<tr>\n",
       "  <th>Df Residuals:</th>          <td>    16</td>      <th>  BIC:               </th> <td>   104.2</td>\n",
       "</tr>\n",
       "<tr>\n",
       "  <th>Df Model:</th>              <td>     1</td>      <th>                     </th>     <td> </td>   \n",
       "</tr>\n",
       "<tr>\n",
       "  <th>Covariance Type:</th>      <td>nonrobust</td>    <th>                     </th>     <td> </td>   \n",
       "</tr>\n",
       "</table>\n",
       "<table class=\"simpletable\">\n",
       "<tr>\n",
       "           <td></td>              <th>coef</th>     <th>std err</th>      <th>t</th>      <th>P>|t|</th>  <th>[0.025</th>    <th>0.975]</th>  \n",
       "</tr>\n",
       "<tr>\n",
       "  <th>Intercept</th>           <td>    4.5145</td> <td>    3.324</td> <td>    1.358</td> <td> 0.193</td> <td>   -2.532</td> <td>   11.561</td>\n",
       "</tr>\n",
       "<tr>\n",
       "  <th>LoanPaymentsOverdue</th> <td>   -2.2485</td> <td>    0.903</td> <td>   -2.489</td> <td> 0.024</td> <td>   -4.163</td> <td>   -0.334</td>\n",
       "</tr>\n",
       "</table>\n",
       "<table class=\"simpletable\">\n",
       "<tr>\n",
       "  <th>Omnibus:</th>       <td> 2.121</td> <th>  Durbin-Watson:     </th> <td>   2.009</td>\n",
       "</tr>\n",
       "<tr>\n",
       "  <th>Prob(Omnibus):</th> <td> 0.346</td> <th>  Jarque-Bera (JB):  </th> <td>   1.403</td>\n",
       "</tr>\n",
       "<tr>\n",
       "  <th>Skew:</th>          <td> 0.448</td> <th>  Prob(JB):          </th> <td>   0.496</td>\n",
       "</tr>\n",
       "<tr>\n",
       "  <th>Kurtosis:</th>      <td> 1.966</td> <th>  Cond. No.          </th> <td>    14.0</td>\n",
       "</tr>\n",
       "</table><br/><br/>Notes:<br/>[1] Standard Errors assume that the covariance matrix of the errors is correctly specified."
      ],
      "text/plain": [
       "<class 'statsmodels.iolib.summary.Summary'>\n",
       "\"\"\"\n",
       "                            OLS Regression Results                            \n",
       "==============================================================================\n",
       "Dep. Variable:            PriceChange   R-squared:                       0.279\n",
       "Model:                            OLS   Adj. R-squared:                  0.234\n",
       "Method:                 Least Squares   F-statistic:                     6.196\n",
       "Date:                Fri, 20 Jan 2023   Prob (F-statistic):             0.0242\n",
       "Time:                        23:10:50   Log-Likelihood:                -49.226\n",
       "No. Observations:                  18   AIC:                             102.5\n",
       "Df Residuals:                      16   BIC:                             104.2\n",
       "Df Model:                           1                                         \n",
       "Covariance Type:            nonrobust                                         \n",
       "=======================================================================================\n",
       "                          coef    std err          t      P>|t|      [0.025      0.975]\n",
       "---------------------------------------------------------------------------------------\n",
       "Intercept               4.5145      3.324      1.358      0.193      -2.532      11.561\n",
       "LoanPaymentsOverdue    -2.2485      0.903     -2.489      0.024      -4.163      -0.334\n",
       "==============================================================================\n",
       "Omnibus:                        2.121   Durbin-Watson:                   2.009\n",
       "Prob(Omnibus):                  0.346   Jarque-Bera (JB):                1.403\n",
       "Skew:                           0.448   Prob(JB):                        0.496\n",
       "Kurtosis:                       1.966   Cond. No.                         14.0\n",
       "==============================================================================\n",
       "\n",
       "Notes:\n",
       "[1] Standard Errors assume that the covariance matrix of the errors is correctly specified.\n",
       "\"\"\""
      ]
     },
     "execution_count": 168,
     "metadata": {},
     "output_type": "execute_result"
    }
   ],
   "source": [
    "lm_model.summary()"
   ]
  },
  {
   "cell_type": "code",
   "execution_count": 169,
   "id": "4b621b07",
   "metadata": {},
   "outputs": [
    {
     "data": {
      "text/plain": [
       "3.8359417252407346"
      ]
     },
     "execution_count": 169,
     "metadata": {},
     "output_type": "execute_result"
    }
   ],
   "source": [
    "lm_model.resid.std() # = residual standard error."
   ]
  },
  {
   "cell_type": "code",
   "execution_count": 170,
   "id": "debb8832",
   "metadata": {},
   "outputs": [
    {
     "data": {
      "text/plain": [
       "1.0639367645611877"
      ]
     },
     "execution_count": 170,
     "metadata": {},
     "output_type": "execute_result"
    }
   ],
   "source": [
    "(SYY / (len(indicators2.index)-2))**(1/2) / SXX**(1/2) # why is it different to 0.903?"
   ]
  },
  {
   "cell_type": "code",
   "execution_count": 120,
   "id": "da488963",
   "metadata": {},
   "outputs": [],
   "source": [
    "# Anyway, the confidence interval of beta1 for alpha=0.05 is (-4.163, -0.334),\n",
    "# so it has an evidence of significant negative linear regression,\n",
    "# whereas R says that the same interval is (-4.504445, 0.006445185),\n",
    "# so it doesn't have an evidence of significant negative linear regression."
   ]
  },
  {
   "cell_type": "code",
   "execution_count": null,
   "id": "49e9bb3d",
   "metadata": {},
   "outputs": [],
   "source": [
    "### (b) ###"
   ]
  },
  {
   "cell_type": "code",
   "execution_count": 171,
   "id": "2581fd01",
   "metadata": {},
   "outputs": [
    {
     "data": {
      "text/plain": [
       "Intercept              4.514494\n",
       "LoanPaymentsOverdue   -2.248520\n",
       "dtype: float64"
      ]
     },
     "execution_count": 171,
     "metadata": {},
     "output_type": "execute_result"
    }
   ],
   "source": [
    "lm_model.params"
   ]
  },
  {
   "cell_type": "code",
   "execution_count": 176,
   "id": "da8b1779",
   "metadata": {},
   "outputs": [
    {
     "data": {
      "text/plain": [
       "0   -4.479585\n",
       "dtype: float64"
      ]
     },
     "execution_count": 176,
     "metadata": {},
     "output_type": "execute_result"
    }
   ],
   "source": [
    "lm_model.predict(DataFrame({\"LoanPaymentsOverdue\": [4]}))"
   ]
  },
  {
   "cell_type": "code",
   "execution_count": 180,
   "id": "cfd4db22",
   "metadata": {},
   "outputs": [
    {
     "data": {
      "text/plain": [
       "0   -6.39386\n",
       "dtype: float64"
      ]
     },
     "execution_count": 180,
     "metadata": {},
     "output_type": "execute_result"
    }
   ],
   "source": [
    "lm_model.predict(DataFrame({\"LoanPaymentsOverdue\": [4]})) - st.t.ppf(0.975, len(indicators2.index)-2) * 0.903"
   ]
  },
  {
   "cell_type": "code",
   "execution_count": 181,
   "id": "8c3e14b9",
   "metadata": {},
   "outputs": [
    {
     "data": {
      "text/plain": [
       "0   -2.565311\n",
       "dtype: float64"
      ]
     },
     "execution_count": 181,
     "metadata": {},
     "output_type": "execute_result"
    }
   ],
   "source": [
    "lm_model.predict(DataFrame({\"LoanPaymentsOverdue\": [4]})) + st.t.ppf(0.975, len(indicators2.index)-2) * 0.903"
   ]
  },
  {
   "cell_type": "code",
   "execution_count": 184,
   "id": "d633ca99",
   "metadata": {},
   "outputs": [],
   "source": [
    "### Thus, the 95% confidence interval for beta1 where x=4 is (-6.39386, -2.565311).\n",
    "### Therefore, 0% = 0.00 is not a feasible value for E(Y|X=4)."
   ]
  },
  {
   "cell_type": "code",
   "execution_count": null,
   "id": "39590dcf",
   "metadata": {},
   "outputs": [],
   "source": []
  },
  {
   "cell_type": "code",
   "execution_count": 185,
   "id": "ea011a9a",
   "metadata": {},
   "outputs": [],
   "source": [
    "### 3. ###"
   ]
  },
  {
   "cell_type": "code",
   "execution_count": null,
   "id": "439caba8",
   "metadata": {},
   "outputs": [],
   "source": []
  }
 ],
 "metadata": {
  "kernelspec": {
   "display_name": "Python 3",
   "language": "python",
   "name": "python3"
  },
  "language_info": {
   "codemirror_mode": {
    "name": "ipython",
    "version": 3
   },
   "file_extension": ".py",
   "mimetype": "text/x-python",
   "name": "python",
   "nbconvert_exporter": "python",
   "pygments_lexer": "ipython3",
   "version": "3.10.4 (v3.10.4:9d38120e33, Mar 23 2022, 17:29:05) [Clang 13.0.0 (clang-1300.0.29.30)]"
  },
  "vscode": {
   "interpreter": {
    "hash": "aee8b7b246df8f9039afb4144a1f6fd8d2ca17a180786b69acc140d282b71a49"
   }
  }
 },
 "nbformat": 4,
 "nbformat_minor": 5
}
